{
  "nbformat": 4,
  "nbformat_minor": 0,
  "metadata": {
    "colab": {
      "provenance": []
    },
    "kernelspec": {
      "name": "python3",
      "display_name": "Python 3"
    },
    "language_info": {
      "name": "python"
    }
  },
  "cells": [
    {
      "cell_type": "code",
      "execution_count": null,
      "metadata": {
        "colab": {
          "base_uri": "https://localhost:8080/"
        },
        "id": "VN2xnlbaiT9A",
        "outputId": "1e6a0cf8-bee9-4fb1-c62c-6af0242e4011"
      },
      "outputs": [
        {
          "output_type": "stream",
          "name": "stdout",
          "text": [
            "Mean Squared Error: 58645558049.60813\n",
            "R-squared: 0.5393967974078753\n"
          ]
        }
      ],
      "source": [
        "import pandas as pd\n",
        "from sklearn.preprocessing import MinMaxScaler\n",
        "from sklearn.model_selection import train_test_split\n",
        "from sklearn.linear_model import LinearRegression\n",
        "from sklearn.metrics import mean_squared_error, r2_score\n",
        "\n",
        "data = pd.read_csv('/content/data.csv')\n",
        "data = data.drop('date', axis = 1)\n",
        "columns_to_drop = ['street', 'city', 'statezip', 'country']\n",
        "data = data.drop(columns_to_drop, axis = 1)\n",
        "features = data.drop('price', axis = 1)\n",
        "target = data['price']\n",
        "\n",
        "\n",
        "features.fillna(features.mean(), inplace=True)\n",
        "\n",
        "\n",
        "scaler = MinMaxScaler()\n",
        "scaled_features = scaler.fit_transform(features)\n",
        "\n",
        "\n",
        "X_train, X_test, y_train, y_test = train_test_split(scaled_features, target, test_size=0.2, random_state=50)\n",
        "\n",
        "\n",
        "model = LinearRegression()\n",
        "model.fit(X_train, y_train)\n",
        "\n",
        "\n",
        "y_pred = model.predict(X_test)\n",
        "\n",
        "\n",
        "mse = mean_squared_error(y_test, y_pred)\n",
        "r2 = r2_score(y_test, y_pred)\n",
        "\n",
        "\n",
        "print(\"Mean Squared Error:\", mse)\n",
        "print(\"R-squared:\", r2)"
      ]
    },
    {
      "cell_type": "code",
      "source": [],
      "metadata": {
        "id": "qCODerlPZLah"
      },
      "execution_count": null,
      "outputs": []
    },
    {
      "cell_type": "code",
      "source": [
        "import pandas as pd\n",
        "from sklearn.preprocessing import MinMaxScaler\n",
        "from sklearn.model_selection import train_test_split\n",
        "from sklearn.linear_model import LinearRegression\n",
        "\n",
        "# Function to preprocess user input for prediction\n",
        "def preprocess_input(user_input, features):\n",
        "    # Create a DataFrame with user input\n",
        "    user_input_df = pd.DataFrame([user_input], columns=features.columns)\n",
        "\n",
        "    # Fill null values with the mean from the training data\n",
        "    user_input_df.fillna(features.mean(), inplace=True)\n",
        "\n",
        "    # Scale the features\n",
        "    scaled_input = scaler.transform(user_input_df)\n",
        "\n",
        "    return scaled_input\n",
        "\n",
        "# Load the CSV file into a DataFrame\n",
        "data = pd.read_csv('/content/data.csv')\n",
        "\n",
        "# Drop unnecessary columns\n",
        "columns_to_drop = ['date', 'street', 'city', 'statezip', 'country']\n",
        "data = data.drop(columns_to_drop, axis=1)\n",
        "\n",
        "# Separate features and target\n",
        "features = data.drop('price', axis=1)\n",
        "target = data['price']\n",
        "\n",
        "# Fill null values with the mean for each column in the features DataFrame\n",
        "features.fillna(features.mean(), inplace=True)\n",
        "\n",
        "# Create a MinMaxScaler object\n",
        "scaler = MinMaxScaler()\n",
        "\n",
        "# Fit and transform the features using Min-Max scaling\n",
        "scaled_features = scaler.fit_transform(features)\n",
        "\n",
        "# Perform train-test split\n",
        "X_train, X_test, y_train, y_test = train_test_split(scaled_features, target, test_size=0.2, random_state=50)\n",
        "\n",
        "# Create and train the Linear Regression model\n",
        "model = LinearRegression()\n",
        "model.fit(X_train, y_train)\n",
        "\n",
        "# Predict the house price based on user input\n",
        "user_input = {\n",
        "    'bedrooms': float(input(\"Enter the number of bedrooms: \")),\n",
        "    'bathrooms': float(input(\"Enter the number of bathrooms: \")),\n",
        "    'sqft_living': float(input(\"Enter the square footage of the living area: \")),\n",
        "    'sqft_lot': float(input(\"Enter the square footage of the lot: \"))\n",
        "}\n",
        "\n",
        "# Preprocess user input\n",
        "scaled_user_input = preprocess_input(user_input, features)\n",
        "\n",
        "# Predict the house price\n",
        "predicted_price = model.predict(scaled_user_input)\n",
        "\n",
        "# Print the predicted house price\n",
        "print(\"Predicted house price:\", predicted_price[0])\n",
        "\n",
        "# Print the linear regression equation\n",
        "print(\"\\nLinear Regression Equation:\")\n",
        "print(\"Predicted Price =\", end=\" \")\n",
        "equation_parts = [f\"{coef:.2f} * {feature}\" for coef, feature in zip(model.coef_, features.columns)]\n",
        "print(\" + \".join(equation_parts), end=\" \")\n",
        "print(f\"+ {model.intercept_:.2f}\")\n"
      ],
      "metadata": {
        "colab": {
          "base_uri": "https://localhost:8080/"
        },
        "id": "p_RGxWgxuDP-",
        "outputId": "b54dc12f-8c07-4379-e33f-14e83faf6640"
      },
      "execution_count": null,
      "outputs": [
        {
          "output_type": "stream",
          "name": "stdout",
          "text": [
            "Enter the number of bedrooms: 3\n",
            "Enter the number of bathrooms: 2\n",
            "Enter the square footage of the living area: 50\n",
            "Enter the square footage of the lot: 60\n",
            "Predicted house price: -7.143692109939368e+16\n",
            "\n",
            "Linear Regression Equation:\n",
            "Predicted Price = -534345.43 * bedrooms + 548782.51 * bathrooms + 450295843852039680.00 * sqft_living + -827793.42 * sqft_lot + 70121.88 * floors + 273725.67 * waterfront + 151009.50 * view + 132678.34 * condition + -309086896612881216.00 * sqft_above + -164800756822480384.00 * sqft_basement + -258863.93 * yr_built + 13912.54 * yr_renovated + 218944.05\n"
          ]
        }
      ]
    }
  ]
}